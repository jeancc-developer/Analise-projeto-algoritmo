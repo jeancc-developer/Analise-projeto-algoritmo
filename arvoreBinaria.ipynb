{
 "cells": [
  {
   "cell_type": "markdown",
   "id": "6faeb58c-2eb5-4e27-9033-72cc3ce9cfda",
   "metadata": {
    "tags": []
   },
   "source": [
    "## Questão 6"
   ]
  },
  {
   "cell_type": "code",
   "execution_count": 3,
   "id": "d2e1fcfa-dc48-46c3-95c6-0127110ac094",
   "metadata": {},
   "outputs": [],
   "source": [
    "class ArvoreBinaria:\n",
    "    def __init__(self, valor):                  #Construtor com valor do nó como parametro\n",
    "        self.raiz = No(valor)                   #Instanciando o nó raiz da árvore com o valor inicial\n",
    "\n",
    "    def buscaABB(self, raiz, valor):\n",
    "        if raiz is None or valor == raiz.valor:         # Verifica se a raiz atual é nula ou se o valor buscado é o valor da raiz atual\n",
    "            if raiz is not None:\n",
    "                return str(raiz.valor)+\" encontrado\"                                 # Retorna a raiz atual\n",
    "            else:\n",
    "                return \"Não encontrado\"\n",
    "        elif valor < raiz.valor:                        # Verifica se o valor buscado é menor que o valor da raiz atual\n",
    "            return self.buscaABB(raiz.esquerdo, valor)  #Executa e retorna uma recursão enviando o filho esquerdo\n",
    "        else:                                           #Verifica se o valor buscado é maior que o valor da raiz atual\n",
    "            return self.buscaABB(raiz.direito, valor)   #Executa e retorna uma recursão enviando o filho direito\n",
    "\n",
    "    def insereABB(self, raiz, no):\n",
    "        if raiz is None:                                # Verifica se a raiz atual é nula\n",
    "            return no                                   # Retorna o novo nó\n",
    "        if no.valor < raiz.valor:                       # Verifica se o valor do novo nó é menor que o valor da raiz atual\n",
    "            raiz.esquerdo = self.insereABB(raiz.esquerdo, no)   #O filho esquerdo passa a ser o retorno da recursão enviando o filho esquerdo\n",
    "        elif no.valor > raiz.valor:                             #Verifica se o valor do novo nó é maior que o valor da raiz atual\n",
    "            raiz.direito = self.insereABB(raiz.direito, no)     #O filho direito passa a ser o retorno da recursão enviando o filho direito\n",
    "        return raiz                                             # Por fim, retorna-se a raiz atual\n",
    "\n",
    "    def removeABB(self, raiz, valor):\n",
    "        if raiz is None:        # Verifica se a raiz atual não é nula\n",
    "            return None         # Retorna nulo\n",
    "\n",
    "        if valor < raiz.valor:      # Verifica se o valor buscado é menor que o valor da raiz atual\n",
    "            raiz.esquerdo = self.removeABB(raiz.esquerdo, valor)    #O filho esquerdo passa a ser o retorno da recursão enviando a si mesmo como raiz\n",
    "        elif valor > raiz.valor:    # Verifica se o valor buscado é maior que o valor da raiz atual\n",
    "            raiz.direito = self.removeABB(raiz.direito, valor)      #O filho direito passa a ser o retorno da recursão enviando a si mesmo como raiz\n",
    "        else:                       #Verifica se o valor buscado é igual ao valor da raiz\n",
    "            if raiz.esquerdo is None:   # Verifica se o filho esquerdo é nulo\n",
    "                raiz = raiz.direito     # A raiz passa a ser o filho direito\n",
    "            elif raiz.direito is None:  # Verifica se o filho direito é nulo\n",
    "                raiz = raiz.esquerdo    # A raiz passa a ser o filho esquerdo\n",
    "            else:                       # Verifica se os filhos esquerdo e direito são nulos\n",
    "                minimo = self.minimoABB(raiz.direito)   # Busca o menor valor a partir do filho direito\n",
    "                raiz.valor = minimo.valor               # Altera o valor da raiz atual para o valor minimo\n",
    "                raiz.direito = self.removeABB(raiz.direito, minimo.valor)   #O filho direito passa a ser o retorno da recurso enviando a si mesmo como parametro e o nó com menor valor\n",
    "        return raiz     # Retorna a raiz atual"
   ]
  },
  {
   "cell_type": "code",
   "execution_count": 7,
   "id": "8d98ef51-989e-427e-94ec-a29201ec0f0f",
   "metadata": {},
   "outputs": [],
   "source": [
    "def mostrar(nivel=1,noArvore=None, ab=None):\n",
    "        if (noArvore is None):\n",
    "            noArvore = ab.raiz\n",
    "        arrow = \"-\" * nivel\n",
    "        print (\"|%s>%s\" % (arrow, noArvore.valor))\n",
    "        if (noArvore.esquerdo is not None):\n",
    "            mostrar(nivel+1,noArvore.esquerdo)\n",
    "        if (noArvore.direito is not None):\n",
    "            mostrar(nivel+1,noArvore.direito)\n",
    "\n",
    "def testeArvore():\n",
    "    ab = ArvoreBinaria(10)  #Instanciando a arvore com a raiz tendo valor 10\n",
    "\n",
    "    ab.insereABB(ab.raiz, No(5))\n",
    "    ab.insereABB(ab.raiz, No(15))\n",
    "    ab.insereABB(ab.raiz, No(13))\n",
    "    ab.insereABB(ab.raiz, No(11))   #Inserindo novos nós na arvores\n",
    "    ab.insereABB(ab.raiz, No(111))\n",
    "    ab.insereABB(ab.raiz, No(3))\n",
    "    ab.insereABB(ab.raiz, No(100))\n",
    "    ab.insereABB(ab.raiz, No(84))\n",
    "    mostrar(ab=ab)\n",
    "    print()\n",
    "    \n",
    "    ab.removeABB(ab.raiz, 10)\n",
    "    print(\"Aŕvore com elementos Removidos\")\n",
    "    mostrar(ab=ab)\n",
    "    print()"
   ]
  },
  {
   "cell_type": "code",
   "execution_count": 5,
   "id": "b9a8d786-795d-48c6-a527-d7d58946d264",
   "metadata": {},
   "outputs": [],
   "source": [
    "class No: #Classe nó da árvore\n",
    "    def __init__(self, valor): # Construtor recebendo o valor do nó\n",
    "        self.valor = valor # Atribuição do valor do nó\n",
    "        self.esquerdo = None # Setando o atributo filho esquerdo como None\n",
    "        self.direito = None # Setando o atributo filho direito como None"
   ]
  },
  {
   "cell_type": "code",
   "execution_count": 8,
   "id": "e1d06126-debe-4c18-b704-930891e789c9",
   "metadata": {},
   "outputs": [
    {
     "name": "stdout",
     "output_type": "stream",
     "text": [
      "ARVORE BINARIA DE BUSCA\n",
      "|->10\n",
      "|-->5\n",
      "|--->3\n",
      "|-->15\n",
      "|--->13\n",
      "|---->11\n",
      "|--->111\n",
      "|---->100\n",
      "|----->84\n",
      "\n"
     ]
    },
    {
     "ename": "AttributeError",
     "evalue": "'ArvoreBinaria' object has no attribute 'minimoABB'",
     "output_type": "error",
     "traceback": [
      "\u001b[1;31m---------------------------------------------------------------------------\u001b[0m",
      "\u001b[1;31mAttributeError\u001b[0m                            Traceback (most recent call last)",
      "Cell \u001b[1;32mIn [8], line 2\u001b[0m\n\u001b[0;32m      1\u001b[0m \u001b[38;5;28mprint\u001b[39m(\u001b[38;5;124m\"\u001b[39m\u001b[38;5;124mARVORE BINARIA DE BUSCA\u001b[39m\u001b[38;5;124m\"\u001b[39m)\n\u001b[1;32m----> 2\u001b[0m \u001b[43mtesteArvore\u001b[49m\u001b[43m(\u001b[49m\u001b[43m)\u001b[49m\n\u001b[0;32m      3\u001b[0m \u001b[38;5;28mprint\u001b[39m()\n\u001b[0;32m      4\u001b[0m \u001b[38;5;28mprint\u001b[39m(\u001b[38;5;124m\"\u001b[39m\u001b[38;5;124m########################\u001b[39m\u001b[38;5;124m\"\u001b[39m)\n",
      "Cell \u001b[1;32mIn [7], line 25\u001b[0m, in \u001b[0;36mtesteArvore\u001b[1;34m()\u001b[0m\n\u001b[0;32m     22\u001b[0m mostrar(ab\u001b[38;5;241m=\u001b[39mab)\n\u001b[0;32m     23\u001b[0m \u001b[38;5;28mprint\u001b[39m()\n\u001b[1;32m---> 25\u001b[0m \u001b[43mab\u001b[49m\u001b[38;5;241;43m.\u001b[39;49m\u001b[43mremoveABB\u001b[49m\u001b[43m(\u001b[49m\u001b[43mab\u001b[49m\u001b[38;5;241;43m.\u001b[39;49m\u001b[43mraiz\u001b[49m\u001b[43m,\u001b[49m\u001b[43m \u001b[49m\u001b[38;5;241;43m10\u001b[39;49m\u001b[43m)\u001b[49m\n\u001b[0;32m     26\u001b[0m \u001b[38;5;28mprint\u001b[39m(\u001b[38;5;124m\"\u001b[39m\u001b[38;5;124mAŕvore com elementos Removidos\u001b[39m\u001b[38;5;124m\"\u001b[39m)\n\u001b[0;32m     27\u001b[0m mostrar(ab\u001b[38;5;241m=\u001b[39mab)\n",
      "Cell \u001b[1;32mIn [3], line 39\u001b[0m, in \u001b[0;36mArvoreBinaria.removeABB\u001b[1;34m(self, raiz, valor)\u001b[0m\n\u001b[0;32m     37\u001b[0m     raiz \u001b[38;5;241m=\u001b[39m raiz\u001b[38;5;241m.\u001b[39mesquerdo    \u001b[38;5;66;03m# A raiz passa a ser o filho esquerdo\u001b[39;00m\n\u001b[0;32m     38\u001b[0m \u001b[38;5;28;01melse\u001b[39;00m:                       \u001b[38;5;66;03m# Verifica se os filhos esquerdo e direito são nulos\u001b[39;00m\n\u001b[1;32m---> 39\u001b[0m     minimo \u001b[38;5;241m=\u001b[39m \u001b[38;5;28;43mself\u001b[39;49m\u001b[38;5;241;43m.\u001b[39;49m\u001b[43mminimoABB\u001b[49m(raiz\u001b[38;5;241m.\u001b[39mdireito)   \u001b[38;5;66;03m# Busca o menor valor a partir do filho direito\u001b[39;00m\n\u001b[0;32m     40\u001b[0m     raiz\u001b[38;5;241m.\u001b[39mvalor \u001b[38;5;241m=\u001b[39m minimo\u001b[38;5;241m.\u001b[39mvalor               \u001b[38;5;66;03m# Altera o valor da raiz atual para o valor minimo\u001b[39;00m\n\u001b[0;32m     41\u001b[0m     raiz\u001b[38;5;241m.\u001b[39mdireito \u001b[38;5;241m=\u001b[39m \u001b[38;5;28mself\u001b[39m\u001b[38;5;241m.\u001b[39mremoveABB(raiz\u001b[38;5;241m.\u001b[39mdireito, minimo\u001b[38;5;241m.\u001b[39mvalor)   \u001b[38;5;66;03m#O filho direito passa a ser o retorno da recurso enviando a si mesmo como parametro e o nó com menor valor\u001b[39;00m\n",
      "\u001b[1;31mAttributeError\u001b[0m: 'ArvoreBinaria' object has no attribute 'minimoABB'"
     ]
    }
   ],
   "source": [
    "print(\"ARVORE BINARIA DE BUSCA\")\n",
    "testeArvore()\n",
    "print()\n",
    "print(\"########################\")\n",
    "print()"
   ]
  }
 ],
 "metadata": {
  "kernelspec": {
   "display_name": "Python 3 (ipykernel)",
   "language": "python",
   "name": "python3"
  },
  "language_info": {
   "codemirror_mode": {
    "name": "ipython",
    "version": 3
   },
   "file_extension": ".py",
   "mimetype": "text/x-python",
   "name": "python",
   "nbconvert_exporter": "python",
   "pygments_lexer": "ipython3",
   "version": "3.11.0"
  }
 },
 "nbformat": 4,
 "nbformat_minor": 5
}
