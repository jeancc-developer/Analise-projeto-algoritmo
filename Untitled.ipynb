{
 "cells": [
  {
   "cell_type": "code",
   "execution_count": 22,
   "id": "9d683153-ada0-4c4e-a2ad-611966840d64",
   "metadata": {},
   "outputs": [],
   "source": [
    "def get_custo(i, j, pd_custo):\n",
    "    n = len(pd_custo)\n",
    "\n",
    "    # para posicoes que caem fora da tabela, retorne 0\n",
    "    # (correspondem a conjuntos vazios de chaves)\n",
    "    if j < i:\n",
    "        return 0\n",
    "    if i >= n or j >= n or i < 0 or j < 0:\n",
    "        return 0\n",
    "    \n",
    "    return pd_custo[i][j]"
   ]
  },
  {
   "cell_type": "code",
   "execution_count": 23,
   "id": "8ea6d58f-82c3-437c-bcf5-66a024f70bc6",
   "metadata": {},
   "outputs": [],
   "source": [
    "def optimal_bst(freq):\n",
    "\n",
    "    n = len(freq)\n",
    "    pd_custo = []\n",
    "    pd_raiz = []\n",
    "    for i in range(n):\n",
    "        pd_custo += [[0]*n]\n",
    "        pd_raiz += [[-1]*n]\n",
    "\n",
    "    for dif in range(n):\n",
    "    # dif vai de 0 a n-1 (primeiro faz a diagonal principal, etc.)\n",
    "\n",
    "        for i in range(n-dif):  # i vai de 0 a n-dif-1\n",
    "            j = i + dif\n",
    "\n",
    "            soma_freq = sum(freq[i:j+1])  # soma das freqs de i a j\n",
    "\n",
    "            custo_minimo = -1\n",
    "            raiz_minimo = None\n",
    "            for r in range(i, j+1):  # r vai de i a j\n",
    "                custo = get_custo(i, r-1, pd_custo) + \\\n",
    "                        get_custo(r+1, j, pd_custo) + \\\n",
    "                        soma_freq\n",
    "                if custo < custo_minimo or (custo_minimo == -1):\n",
    "                    custo_minimo = custo\n",
    "                    raiz_minimo = r\n",
    "\n",
    "            pd_custo[i][j] = custo_minimo\n",
    "            pd_raiz[i][j] = raiz_minimo\n",
    "\n",
    "    return pd_custo[0][n-1], pd_custo, pd_raiz"
   ]
  },
  {
   "cell_type": "code",
   "execution_count": 28,
   "id": "1d3711d2-35ae-4bdf-949f-3a745b968cdd",
   "metadata": {},
   "outputs": [
    {
     "name": "stdout",
     "output_type": "stream",
     "text": [
      "custo minímo: 1%\n",
      "custo minimo = 1\n",
      "\n",
      "custos:\n",
      "[0.15, 0.35, 0.5, 0.75, 1.3]\n",
      "[0, 0.1, 0.2, 0.45, 0.8500000000000001]\n",
      "[0, 0, 0.05, 0.2, 0.55]\n",
      "[0, 0, 0, 0.1, 0.4]\n",
      "[0, 0, 0, 0, 0.2]\n",
      "\n",
      "raizes\n",
      "[0, 0, 0, 1, 3]\n",
      "[-1, 1, 1, 1, 3]\n",
      "[-1, -1, 2, 3, 4]\n",
      "[-1, -1, -1, 3, 4]\n",
      "[-1, -1, -1, -1, 4]\n"
     ]
    }
   ],
   "source": [
    "# main\n",
    "\n",
    "freq = [0.15, 0.10, 0.05, 0.10, 0.20]\n",
    "n = len(freq)\n",
    "custo, m_custo, m_raiz = optimal_bst(freq)\n",
    "\n",
    "print(\"custo minimo = %d\" % custo)\n",
    "\n",
    "print(\"\\ncustos:\")\n",
    "for linha in m_custo:\n",
    "    print(linha)\n",
    "\n",
    "print(\"\\nraizes\")\n",
    "for linha in m_raiz:\n",
    "    print(linha)"
   ]
  },
  {
   "cell_type": "code",
   "execution_count": 25,
   "id": "6d3b85e6-6777-4426-8099-4d21361bc6df",
   "metadata": {},
   "outputs": [
    {
     "name": "stdout",
     "output_type": "stream",
     "text": [
      "pai(0) = 1\n",
      "pai(1) = -1\n",
      "pai(2) = 3\n",
      "pai(3) = 4\n",
      "pai(4) = 1\n"
     ]
    }
   ],
   "source": [
    "# encontra a arvore otima baseado nas raizes de cada subproblema\n",
    "pais = [-1]*n\n",
    "fila = [(0,n-1,-1)]\n",
    "indice_comeco = 0\n",
    "while indice_comeco < len(fila):\n",
    "    registro = fila[indice_comeco]\n",
    "    indice_comeco += 1\n",
    "    i = registro[0]\n",
    "    j = registro[1]\n",
    "    pai = registro[2]\n",
    "    raiz = m_raiz[i][j]\n",
    "    if i < raiz:\n",
    "        fila += [(i, raiz-1, raiz)]\n",
    "    if raiz < j:\n",
    "        fila += [(raiz+1, j, raiz)]\n",
    "    pais[raiz] = pai\n",
    "        \n",
    "\n",
    "for i in range(n):\n",
    "    print(\"pai(%d) = %d\" % (i, pais[i]))\n"
   ]
  },
  {
   "cell_type": "markdown",
   "id": "54720f89-f4cb-491a-972b-6d64f1a49b11",
   "metadata": {},
   "source": [
    "## Algoritmo 2 "
   ]
  }
 ],
 "metadata": {
  "kernelspec": {
   "display_name": "Python 3 (ipykernel)",
   "language": "python",
   "name": "python3"
  },
  "language_info": {
   "codemirror_mode": {
    "name": "ipython",
    "version": 3
   },
   "file_extension": ".py",
   "mimetype": "text/x-python",
   "name": "python",
   "nbconvert_exporter": "python",
   "pygments_lexer": "ipython3",
   "version": "3.11.0"
  }
 },
 "nbformat": 4,
 "nbformat_minor": 5
}
