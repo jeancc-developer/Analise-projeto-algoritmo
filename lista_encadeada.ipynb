{
 "cells": [
  {
   "cell_type": "code",
   "execution_count": 17,
   "id": "b1d57822-36cf-4855-8c5e-24ef7af1cbcd",
   "metadata": {},
   "outputs": [
    {
     "name": "stdout",
     "output_type": "stream",
     "text": [
      "[2.1, 4.5, 1.0]\n",
      "[7.2, 9.8, 3.6]\n",
      "[2.1, 7.2, 4.5, 9.8, 1.0, 3.6]\n",
      "[3.6, 1.0, 9.8, 4.5, 7.2, 2.1]\n"
     ]
    }
   ],
   "source": [
    "def intercala(a, b):\n",
    "    intercalado = []\n",
    "    for i in range(len(b)):\n",
    "        intercalado.append(a[i])\n",
    "        intercalado.append(b[i])\n",
    "    return intercalado\n",
    "\n",
    "def inverter(lista):\n",
    "    newList = list(reversed(lista))\n",
    "    return newList\n",
    "\n",
    "\n",
    "lista = intercala(vetorA, vetorB)\n",
    "novaLista = inverter(lista)\n",
    "\n",
    "vetorA = [2.1, 4.5, 1.0]\n",
    "vetorB = [7.2, 9.8, 3.6]\n",
    "\n",
    "print(vetorA)\n",
    "print(vetorB)\n",
    "print(intercala(vetorA, vetorB))\n",
    "print(novaLista)"
   ]
  }
 ],
 "metadata": {
  "kernelspec": {
   "display_name": "Python 3 (ipykernel)",
   "language": "python",
   "name": "python3"
  },
  "language_info": {
   "codemirror_mode": {
    "name": "ipython",
    "version": 3
   },
   "file_extension": ".py",
   "mimetype": "text/x-python",
   "name": "python",
   "nbconvert_exporter": "python",
   "pygments_lexer": "ipython3",
   "version": "3.11.0"
  }
 },
 "nbformat": 4,
 "nbformat_minor": 5
}
